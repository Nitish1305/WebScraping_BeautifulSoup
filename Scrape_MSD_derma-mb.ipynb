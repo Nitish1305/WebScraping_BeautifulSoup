{
 "cells": [
  {
   "cell_type": "code",
   "execution_count": 1,
   "metadata": {},
   "outputs": [],
   "source": [
    "import requests\n",
    "import pandas as pd\n",
    "from bs4 import BeautifulSoup"
   ]
  },
  {
   "cell_type": "markdown",
   "metadata": {},
   "source": [
    "We need to identify all the necessary links to crawl"
   ]
  },
  {
   "cell_type": "code",
   "execution_count": 2,
   "metadata": {},
   "outputs": [],
   "source": [
    "url = 'https://www.msd-arztsuche.de/suche/_/dermato-onkologie-kliniken/'"
   ]
  },
  {
   "cell_type": "code",
   "execution_count": 3,
   "metadata": {},
   "outputs": [],
   "source": [
    "# To extract the first and last page numbers of the website\n",
    "p = requests.get(url)\n",
    "s = BeautifulSoup(p.text,'html.parser')\n"
   ]
  },
  {
   "cell_type": "code",
   "execution_count": 78,
   "metadata": {},
   "outputs": [
    {
     "data": {
      "text/plain": [
       "<Response [200]>"
      ]
     },
     "execution_count": 78,
     "metadata": {},
     "output_type": "execute_result"
    }
   ],
   "source": [
    "p"
   ]
  },
  {
   "cell_type": "code",
   "execution_count": 17,
   "metadata": {},
   "outputs": [],
   "source": [
    "pgnum = s.find(\"nav\",{\"class\":\"search-paginator\"}).find_all(\"a\")"
   ]
  },
  {
   "cell_type": "code",
   "execution_count": 18,
   "metadata": {},
   "outputs": [
    {
     "data": {
      "text/plain": [
       "[<a href=\"suche/_/dermato-onkologie-kliniken/seite/2/\">2</a>,\n",
       " <a href=\"suche/_/dermato-onkologie-kliniken/seite/3/\">3</a>,\n",
       " <a href=\"suche/_/dermato-onkologie-kliniken/seite/4/\">4</a>,\n",
       " <a href=\"suche/_/dermato-onkologie-kliniken/seite/5/\">5</a>,\n",
       " <a class=\"sprite-arrowRight ir\" href=\"suche/_/dermato-onkologie-kliniken/seite/2/\">vor</a>]"
      ]
     },
     "execution_count": 18,
     "metadata": {},
     "output_type": "execute_result"
    }
   ],
   "source": [
    "pgnum"
   ]
  },
  {
   "cell_type": "code",
   "execution_count": 31,
   "metadata": {},
   "outputs": [],
   "source": [
    "start_page = int(pgnum[0].text) -1 \n",
    "last_page = int(pgnum[len(pgnum)-2].text)"
   ]
  },
  {
   "cell_type": "code",
   "execution_count": 59,
   "metadata": {},
   "outputs": [
    {
     "name": "stdout",
     "output_type": "stream",
     "text": [
      "5\n"
     ]
    }
   ],
   "source": [
    "print(last_page)"
   ]
  },
  {
   "cell_type": "code",
   "execution_count": 63,
   "metadata": {},
   "outputs": [
    {
     "name": "stdout",
     "output_type": "stream",
     "text": [
      "1\n",
      "2\n",
      "3\n",
      "4\n",
      "5\n"
     ]
    }
   ],
   "source": [
    "finaltds = []\n",
    "i = 1\n",
    "for i in range(1, last_page + 1):\n",
    "    url_n = url+'seite/'+str(i)+'/'\n",
    "    page = requests.get(url_n)\n",
    "    soup = BeautifulSoup(page.text, 'html.parser')\n",
    "    mydivs = soup.findAll(\"div\",attrs = {\"class\": \"table-cell search-results-data\"})\n",
    "    tds = []\n",
    "    print(i)\n",
    "    for row in mydivs:\n",
    "        tds.append(row.text)\n",
    "        finaltds.append(tds)\n",
    "        tds = []"
   ]
  },
  {
   "cell_type": "code",
   "execution_count": 79,
   "metadata": {},
   "outputs": [
    {
     "data": {
      "text/plain": [
       "[['\\nStädtisches Klinikum Dresden - Klinik für Dermatologie und Allergologie\\n\\n\\t\\tFriedrichstraße 41\\n\\t\\t01067 Dresden\\n\\t\\n'],\n",
       " ['\\nKlinik und Poliklinik für Dermatologie - Universitätsklinikum Carl Gustav Carus Dresden\\r\\nan der Technischen Universität Dresden\\n\\n\\t\\tFetscherstraße 74\\n\\t\\t01307 Dresden\\n\\t\\n'],\n",
       " ['\\nCarl-Thiem-Klinikum Cottbus gGmbH\\n\\n\\t\\tThiemstr. 111\\n\\t\\t03048 Cottbus\\n\\t\\n'],\n",
       " ['\\nHautkrebszentrum Harz - am Harzllinikum Dorothea Christiane Erxleben GmbH\\n\\n\\t\\tDitfurter Weg 24\\n\\t\\t06484 Quedlinburg\\n\\t\\n'],\n",
       " ['\\nStädtisches Klinikum Dessau - Klinik für Dermatologie, Venerologie und Allergologie, Immunologisches Zentrum\\n\\n\\t\\tAuenweg 38\\n\\t\\t06847 Dessau-Roßlau\\n\\t\\n'],\n",
       " ['\\nHeinrich-Braun-Klinikum gemeinnützige GmbH - Standort Zwickau - Klinik für Hautkrankheiten und Allergologie\\n\\n\\t\\tKarl-Keil-Straße 35\\n\\t\\t08060 Zwickau\\n\\t\\n'],\n",
       " ['\\nKlinik für Hautkrankheiten und Allergologie - HELIOS Vogtland-Klinikum\\n\\n\\t\\tRöntgenstraße 2\\n\\t\\t08529 Plauen\\n\\t\\n'],\n",
       " ['\\nDRK-Krankenhaus Chemnitz-Rabenstein - Hautklinik\\n\\n\\t\\tUnritzstr. 23\\n\\t\\t09117 Chemnitz\\n\\t\\n'],\n",
       " ['\\nHauttumorcentrum Charité (HTCC)\\n\\n\\t\\tCharitéplatz 1\\n\\t\\t10117 Berlin\\n\\t\\n'],\n",
       " ['\\nVivantes Klinikum im Friedrichshain\\n\\n\\t\\tLandsberger Allee 49\\n\\t\\t10249 Berlin\\n\\t\\n'],\n",
       " ['\\nVivantes Klinikum Spandau Klinik für Dermatologie\\n\\n\\t\\tNeue Bergstr. 6\\n\\t\\t13585 Berlin\\n\\t\\n'],\n",
       " ['\\nKlinikum Ernst von Bergmann gGmbH - Klinik für Dermatologie, Venerologie und Allergologie\\n\\n\\t\\tCharlottenstraße 72\\n\\t\\t14467 Potsdam\\n\\t\\n'],\n",
       " ['\\nElbe Kliniken Stade - Buxtehude GmbH - Hautkrebszentrum\\n\\n\\t\\tAm Krankenhaus 1\\n\\t\\t21614 Buxtehude\\n\\t\\n'],\n",
       " ['\\nUniversitäts-Hautklinik Kiel - Hautkrebszentrum\\n\\n\\t\\tSchittenhelmstr.7\\n\\t\\t24105 Kiel\\n\\t\\n'],\n",
       " ['\\nKlinikum Oldenburg AöR - Klinik für Dermatologie und Allergologie\\n\\n\\t\\tRahel-Straus-Straße 10\\n\\t\\t26133 Oldenburg\\n\\t\\n'],\n",
       " ['\\nDerma am Diako - Die Hautarztpraxis im Bremer Westen\\n\\n\\t\\tGröpelinger Heerstraße 406\\n\\t\\t28239 Bremen\\n\\t\\n'],\n",
       " ['\\nKlinik für Dermatologie, Venerologie und Allergologie - HELIOS Klinikum Hildesheim\\n\\n\\t\\tSenator-Braun-Allee 33\\n\\t\\t31135 Hildesheim\\n\\t\\n'],\n",
       " ['\\nHautTumorCentrumMinden - Mühlenkreiskliniken - Johannes Wesling Klinikum Minden\\n\\n\\t\\tHans-Nolte-Straße 1\\n\\t\\t32429 Minden\\n\\t\\n'],\n",
       " ['\\nKlinikum Kassel Klinik für Dermatologie\\n\\n\\t\\tMönchebergstr. 41-43\\n\\t\\t34125 Kassel\\n\\t\\n'],\n",
       " ['\\nUniversitätklinikum Magdeburg A.ö.R. - \\r\\nUniversitätshautklinik\\n\\n\\t\\tLeipziger Str. 44\\n\\t\\t39120 Magdeburg\\n\\t\\n'],\n",
       " ['\\nHauttumorzentrum Essen\\n\\n\\t\\tHufelandstr. 55\\n\\t\\t45147 Essen\\n\\t\\n'],\n",
       " ['\\nHautarztpraxis Dr. Beyer\\n\\n\\t\\tKarlstraße 1\\n\\t\\t45329 Essen\\n\\t\\n'],\n",
       " ['\\nHautärztliche Gemeinschaftspraxis in Coesfeld - Pappai & Schiller\\n\\n\\t\\tRosenstr. 1 / Markt 1\\n\\t\\t48653 Coesfeld\\n\\t\\n'],\n",
       " ['\\nEifelklinik St. Brigida GmbH & Co. KG\\n\\n\\t\\tKammerbruchstr. 8\\n\\t\\t52152 Simmerath\\n\\t\\n'],\n",
       " ['\\nHautarztpraxis Stolberg\\n\\n\\t\\tSteinfeldstr. 7\\n\\t\\t52222 Stolberg (Rhld.)\\n\\t\\n'],\n",
       " ['\\nDermatologisches Zentrum - Bonn\\n\\n\\t\\tFriedensplatz 16\\n\\t\\t53111 Bonn\\n\\t\\n'],\n",
       " ['\\nUniversitätsklinikum Bonn (AöR) - Dermatologie\\n\\n\\t\\tSigmund-Freud-Str. 25\\n\\t\\t53127 Bonn\\n\\t\\n'],\n",
       " ['\\nUniversität Mainz - Hautklinik und Poliklinik\\n\\n\\t\\tLangenbeckstr. 1\\n\\t\\t55131 Mainz\\n\\t\\n'],\n",
       " ['\\nDiakonie Klinikum Bethesda - Dermatologie\\n\\n\\t\\tEuelsbruchstraße 39\\n\\t\\t57258 Freudenberg\\n\\t\\n'],\n",
       " ['\\nKatharinen-Hospital gGmbH -  Klinik für Dermatologie und Phlebologie\\n\\n\\t\\tObere Husemannstr. 2\\n\\t\\t59423 Unna\\n\\t\\n'],\n",
       " ['\\nVital Klinik GmbH & Co. KG\\n\\n\\t\\tStreuweg 100\\n\\t\\t63755 Alzenau\\n\\t\\n'],\n",
       " ['\\nHautklinik - Klinikum Darmstadt GmbH\\n\\n\\t\\tHeidelberger Landstraße 379\\n\\t\\t64297 Darmstadt\\n\\t\\n'],\n",
       " ['\\nKlinik für Dermatologie und Allergologie - HELIOS Dr. Horst Schmidt Kliniken Wiesbaden\\n\\n\\t\\tLudwig-Erhard-Straße 100\\n\\t\\t65199 Wiesbaden\\n\\t\\n'],\n",
       " ['\\nKlinikum der Stadt Ludwigshafen am Rhein gGmbH - Hautklinik in Ludwigshafen am Rhein\\n\\n\\t\\tBremserstraße 79\\n\\t\\t67063 Ludwigshafen am Rhein\\n\\t\\n'],\n",
       " ['\\nHauttumorzentrum Mannheim\\n\\n\\t\\tTheodor-Kutzer-Ufer 1-3\\n\\t\\t68167 Mannheim\\n\\t\\n'],\n",
       " ['\\nUniversitäts Hautklinik\\n\\n\\t\\tLiebermeisterstraße 25\\n\\t\\t72076 Tübingen\\n\\t\\n'],\n",
       " ['\\nKlinik für Dermatologie, Allergologie und Phlebologie - Klinikum am Gesundbrunnen-\\r\\n -SLK-Kliniken Heilbronn GmbH\\n\\n\\t\\tAm Gesundbrunnen 20-26\\n\\t\\t74078 Heilbronn\\n\\t\\n'],\n",
       " ['\\nHautarztpraxis  in Konstanz\\n\\n\\t\\tAugustinerplatz 7\\n\\t\\t78462 Konstanz\\n\\t\\n'],\n",
       " ['\\nHauttumorzentrum des Tumorzentrums Freiburg - CCCF - Universitätsklinikum Freiburg\\n\\n\\t\\tHauptstraße 7\\n\\t\\t79104 Freiburg\\n\\t\\n'],\n",
       " ['\\nKlinikum rechts der Isar Technische Universität München Klinik für Dermatologie\\n\\n\\t\\tBiedersteiner Str. 29\\n\\t\\t80802 München\\n\\t\\n'],\n",
       " ['\\nHautarztpraxis Dr.Biltz\\n\\n\\t\\tGuardinistr. 186\\n\\t\\t81375 München\\n\\t\\n'],\n",
       " ['\\nVENUSKLINIK GmbH\\n\\n\\t\\tKonrad-Adenauer-Allee 31\\n\\t\\t86150 Augsburg\\n\\t\\n'],\n",
       " ['\\nDermatologie und Allergologie - HELIOS Hauttumorzentrum Erfurt\\n\\n\\t\\tNordhäuser Str. 74\\n\\t\\t99089 Erfurt\\n\\t\\n']]"
      ]
     },
     "execution_count": 79,
     "metadata": {},
     "output_type": "execute_result"
    }
   ],
   "source": [
    "finaltds"
   ]
  },
  {
   "cell_type": "code",
   "execution_count": 65,
   "metadata": {},
   "outputs": [],
   "source": [
    "finaltdsdf = pd.DataFrame(finaltds)"
   ]
  },
  {
   "cell_type": "code",
   "execution_count": 66,
   "metadata": {},
   "outputs": [],
   "source": [
    "finaltdsdf = finaltdsdf.replace('\\r\\n',' ', regex=True)"
   ]
  },
  {
   "cell_type": "code",
   "execution_count": 67,
   "metadata": {},
   "outputs": [],
   "source": [
    "finaltdsdf = finaltdsdf.replace('\\n',' ', regex=True)"
   ]
  },
  {
   "cell_type": "code",
   "execution_count": 68,
   "metadata": {},
   "outputs": [],
   "source": [
    "finaltdsdf = finaltdsdf.replace('\\t\\t','\\t', regex=True)"
   ]
  },
  {
   "cell_type": "code",
   "execution_count": 69,
   "metadata": {},
   "outputs": [],
   "source": [
    "finaltdsdf = finaltdsdf.replace('\\t','|', regex=True)"
   ]
  },
  {
   "cell_type": "code",
   "execution_count": 70,
   "metadata": {},
   "outputs": [
    {
     "data": {
      "text/plain": [
       "' Klinik und Poliklinik für Dermatologie - Universitätsklinikum Carl Gustav Carus Dresden an der Technischen Universität Dresden  |Fetscherstraße 74 |01307 Dresden | '"
      ]
     },
     "execution_count": 70,
     "metadata": {},
     "output_type": "execute_result"
    }
   ],
   "source": [
    "finaltdsdf[0][1]"
   ]
  },
  {
   "cell_type": "code",
   "execution_count": 75,
   "metadata": {},
   "outputs": [],
   "source": [
    "finaltdsdf.to_csv(r\"C:\\Users\\Nitish.Ranjan\\Desktop\\medium2.txt\",sep='|',header = False)"
   ]
  }
 ],
 "metadata": {
  "kernelspec": {
   "display_name": "Python 3",
   "language": "python",
   "name": "python3"
  },
  "language_info": {
   "codemirror_mode": {
    "name": "ipython",
    "version": 3
   },
   "file_extension": ".py",
   "mimetype": "text/x-python",
   "name": "python",
   "nbconvert_exporter": "python",
   "pygments_lexer": "ipython3",
   "version": "3.6.4"
  }
 },
 "nbformat": 4,
 "nbformat_minor": 2
}
